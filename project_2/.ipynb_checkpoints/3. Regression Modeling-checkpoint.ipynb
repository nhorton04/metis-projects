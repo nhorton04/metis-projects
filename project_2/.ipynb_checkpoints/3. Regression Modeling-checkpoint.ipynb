{
 "cells": [
  {
   "cell_type": "code",
   "execution_count": 1,
   "metadata": {},
   "outputs": [],
   "source": [
    "%matplotlib inline\n",
    "import pandas as pd\n",
    "import re\n",
    "import seaborn as sns\n",
    "import csv\n",
    "import matplotlib.pyplot as plt\n",
    "import statsmodels.api as sm\n",
    "import patsy\n",
    "import pickle\n",
    "import numpy as np\n",
    "from sklearn.model_selection import KFold\n",
    "from sklearn.model_selection import train_test_split, cross_val_score\n",
    "from sklearn.linear_model import LinearRegression, Ridge, Lasso, ElasticNet\n",
    "from sklearn.linear_model import LassoCV, RidgeCV, ElasticNetCV\n",
    "from sklearn.preprocessing import StandardScaler, PolynomialFeatures\n",
    "from sklearn.metrics import r2_score, mean_squared_error\n",
    "from sklearn.pipeline import Pipeline\n",
    "from scipy import stats"
   ]
  },
  {
   "cell_type": "markdown",
   "metadata": {},
   "source": [
    "Import dataset, drop rows with missing data."
   ]
  },
  {
   "cell_type": "code",
   "execution_count": 2,
   "metadata": {},
   "outputs": [],
   "source": [
    "all_features = pickle.load(open('all_features.pickle', 'rb'))\n",
    "no_nans = all_features.loc[all_features['metascores'] != 0.0]"
   ]
  },
  {
   "cell_type": "code",
   "execution_count": 3,
   "metadata": {},
   "outputs": [
    {
     "data": {
      "text/html": [
       "<div>\n",
       "<style scoped>\n",
       "    .dataframe tbody tr th:only-of-type {\n",
       "        vertical-align: middle;\n",
       "    }\n",
       "\n",
       "    .dataframe tbody tr th {\n",
       "        vertical-align: top;\n",
       "    }\n",
       "\n",
       "    .dataframe thead th {\n",
       "        text-align: right;\n",
       "    }\n",
       "</style>\n",
       "<table border=\"1\" class=\"dataframe\">\n",
       "  <thead>\n",
       "    <tr style=\"text-align: right;\">\n",
       "      <th></th>\n",
       "      <th>domestic_total_gross</th>\n",
       "      <th>runtime_minutes</th>\n",
       "      <th>budget</th>\n",
       "      <th>metascores</th>\n",
       "      <th>audience_scores</th>\n",
       "      <th>critic_count</th>\n",
       "      <th>num_audience_ratings</th>\n",
       "      <th>rating_G</th>\n",
       "      <th>rating_M/PG</th>\n",
       "      <th>rating_PG</th>\n",
       "      <th>rating_PG-13</th>\n",
       "      <th>rating_R</th>\n",
       "    </tr>\n",
       "  </thead>\n",
       "  <tbody>\n",
       "    <tr>\n",
       "      <th>5</th>\n",
       "      <td>270620950.0</td>\n",
       "      <td>85.0</td>\n",
       "      <td>75000000.0</td>\n",
       "      <td>95.0</td>\n",
       "      <td>6.0</td>\n",
       "      <td>46.0</td>\n",
       "      <td>1199.0</td>\n",
       "      <td>0.0</td>\n",
       "      <td>0.0</td>\n",
       "      <td>1.0</td>\n",
       "      <td>0.0</td>\n",
       "      <td>0.0</td>\n",
       "    </tr>\n",
       "    <tr>\n",
       "      <th>10</th>\n",
       "      <td>213515506.0</td>\n",
       "      <td>112.0</td>\n",
       "      <td>100000000.0</td>\n",
       "      <td>48.0</td>\n",
       "      <td>6.0</td>\n",
       "      <td>52.0</td>\n",
       "      <td>628.0</td>\n",
       "      <td>0.0</td>\n",
       "      <td>0.0</td>\n",
       "      <td>0.0</td>\n",
       "      <td>1.0</td>\n",
       "      <td>0.0</td>\n",
       "    </tr>\n",
       "    <tr>\n",
       "      <th>11</th>\n",
       "      <td>215288866.0</td>\n",
       "      <td>136.0</td>\n",
       "      <td>36000000.0</td>\n",
       "      <td>80.0</td>\n",
       "      <td>7.0</td>\n",
       "      <td>41.0</td>\n",
       "      <td>79.0</td>\n",
       "      <td>0.0</td>\n",
       "      <td>0.0</td>\n",
       "      <td>0.0</td>\n",
       "      <td>0.0</td>\n",
       "      <td>1.0</td>\n",
       "    </tr>\n",
       "    <tr>\n",
       "      <th>12</th>\n",
       "      <td>335061807.0</td>\n",
       "      <td>143.0</td>\n",
       "      <td>0.0</td>\n",
       "      <td>72.0</td>\n",
       "      <td>8.0</td>\n",
       "      <td>25.0</td>\n",
       "      <td>26.0</td>\n",
       "      <td>0.0</td>\n",
       "      <td>0.0</td>\n",
       "      <td>0.0</td>\n",
       "      <td>1.0</td>\n",
       "      <td>0.0</td>\n",
       "    </tr>\n",
       "    <tr>\n",
       "      <th>15</th>\n",
       "      <td>201091711.0</td>\n",
       "      <td>112.0</td>\n",
       "      <td>175000000.0</td>\n",
       "      <td>28.0</td>\n",
       "      <td>5.0</td>\n",
       "      <td>4.0</td>\n",
       "      <td>9.0</td>\n",
       "      <td>0.0</td>\n",
       "      <td>0.0</td>\n",
       "      <td>1.0</td>\n",
       "      <td>0.0</td>\n",
       "      <td>0.0</td>\n",
       "    </tr>\n",
       "    <tr>\n",
       "      <th>...</th>\n",
       "      <td>...</td>\n",
       "      <td>...</td>\n",
       "      <td>...</td>\n",
       "      <td>...</td>\n",
       "      <td>...</td>\n",
       "      <td>...</td>\n",
       "      <td>...</td>\n",
       "      <td>...</td>\n",
       "      <td>...</td>\n",
       "      <td>...</td>\n",
       "      <td>...</td>\n",
       "      <td>...</td>\n",
       "    </tr>\n",
       "    <tr>\n",
       "      <th>246</th>\n",
       "      <td>5166.0</td>\n",
       "      <td>72.0</td>\n",
       "      <td>0.0</td>\n",
       "      <td>81.0</td>\n",
       "      <td>0.0</td>\n",
       "      <td>10.0</td>\n",
       "      <td>0.0</td>\n",
       "      <td>0.0</td>\n",
       "      <td>0.0</td>\n",
       "      <td>0.0</td>\n",
       "      <td>0.0</td>\n",
       "      <td>0.0</td>\n",
       "    </tr>\n",
       "    <tr>\n",
       "      <th>247</th>\n",
       "      <td>3816.0</td>\n",
       "      <td>105.0</td>\n",
       "      <td>0.0</td>\n",
       "      <td>47.0</td>\n",
       "      <td>4.0</td>\n",
       "      <td>31.0</td>\n",
       "      <td>100.0</td>\n",
       "      <td>0.0</td>\n",
       "      <td>0.0</td>\n",
       "      <td>0.0</td>\n",
       "      <td>0.0</td>\n",
       "      <td>0.0</td>\n",
       "    </tr>\n",
       "    <tr>\n",
       "      <th>248</th>\n",
       "      <td>1051.0</td>\n",
       "      <td>0.0</td>\n",
       "      <td>0.0</td>\n",
       "      <td>68.0</td>\n",
       "      <td>7.0</td>\n",
       "      <td>20.0</td>\n",
       "      <td>5.0</td>\n",
       "      <td>0.0</td>\n",
       "      <td>0.0</td>\n",
       "      <td>0.0</td>\n",
       "      <td>0.0</td>\n",
       "      <td>0.0</td>\n",
       "    </tr>\n",
       "    <tr>\n",
       "      <th>249</th>\n",
       "      <td>225250.0</td>\n",
       "      <td>87.0</td>\n",
       "      <td>0.0</td>\n",
       "      <td>79.0</td>\n",
       "      <td>0.0</td>\n",
       "      <td>14.0</td>\n",
       "      <td>0.0</td>\n",
       "      <td>0.0</td>\n",
       "      <td>0.0</td>\n",
       "      <td>0.0</td>\n",
       "      <td>0.0</td>\n",
       "      <td>0.0</td>\n",
       "    </tr>\n",
       "    <tr>\n",
       "      <th>250</th>\n",
       "      <td>564.0</td>\n",
       "      <td>96.0</td>\n",
       "      <td>0.0</td>\n",
       "      <td>61.0</td>\n",
       "      <td>0.0</td>\n",
       "      <td>15.0</td>\n",
       "      <td>0.0</td>\n",
       "      <td>0.0</td>\n",
       "      <td>0.0</td>\n",
       "      <td>0.0</td>\n",
       "      <td>0.0</td>\n",
       "      <td>0.0</td>\n",
       "    </tr>\n",
       "  </tbody>\n",
       "</table>\n",
       "<p>943 rows × 12 columns</p>\n",
       "</div>"
      ],
      "text/plain": [
       "     domestic_total_gross  runtime_minutes       budget  metascores  \\\n",
       "5             270620950.0             85.0   75000000.0        95.0   \n",
       "10            213515506.0            112.0  100000000.0        48.0   \n",
       "11            215288866.0            136.0   36000000.0        80.0   \n",
       "12            335061807.0            143.0          0.0        72.0   \n",
       "15            201091711.0            112.0  175000000.0        28.0   \n",
       "..                    ...              ...          ...         ...   \n",
       "246                5166.0             72.0          0.0        81.0   \n",
       "247                3816.0            105.0          0.0        47.0   \n",
       "248                1051.0              0.0          0.0        68.0   \n",
       "249              225250.0             87.0          0.0        79.0   \n",
       "250                 564.0             96.0          0.0        61.0   \n",
       "\n",
       "     audience_scores  critic_count  num_audience_ratings  rating_G  \\\n",
       "5                6.0          46.0                1199.0       0.0   \n",
       "10               6.0          52.0                 628.0       0.0   \n",
       "11               7.0          41.0                  79.0       0.0   \n",
       "12               8.0          25.0                  26.0       0.0   \n",
       "15               5.0           4.0                   9.0       0.0   \n",
       "..               ...           ...                   ...       ...   \n",
       "246              0.0          10.0                   0.0       0.0   \n",
       "247              4.0          31.0                 100.0       0.0   \n",
       "248              7.0          20.0                   5.0       0.0   \n",
       "249              0.0          14.0                   0.0       0.0   \n",
       "250              0.0          15.0                   0.0       0.0   \n",
       "\n",
       "     rating_M/PG  rating_PG  rating_PG-13  rating_R  \n",
       "5            0.0        1.0           0.0       0.0  \n",
       "10           0.0        0.0           1.0       0.0  \n",
       "11           0.0        0.0           0.0       1.0  \n",
       "12           0.0        0.0           1.0       0.0  \n",
       "15           0.0        1.0           0.0       0.0  \n",
       "..           ...        ...           ...       ...  \n",
       "246          0.0        0.0           0.0       0.0  \n",
       "247          0.0        0.0           0.0       0.0  \n",
       "248          0.0        0.0           0.0       0.0  \n",
       "249          0.0        0.0           0.0       0.0  \n",
       "250          0.0        0.0           0.0       0.0  \n",
       "\n",
       "[943 rows x 12 columns]"
      ]
     },
     "execution_count": 3,
     "metadata": {},
     "output_type": "execute_result"
    }
   ],
   "source": [
    "no_nans"
   ]
  },
  {
   "cell_type": "markdown",
   "metadata": {},
   "source": [
    "Set up X, y, test/train/validation split."
   ]
  },
  {
   "cell_type": "code",
   "execution_count": 4,
   "metadata": {},
   "outputs": [
    {
     "data": {
      "text/plain": [
       "Index(['runtime_minutes', 'budget', 'metascores', 'audience_scores',\n",
       "       'critic_count', 'num_audience_ratings', 'rating_G', 'rating_M/PG',\n",
       "       'rating_PG', 'rating_PG-13', 'rating_R'],\n",
       "      dtype='object')"
      ]
     },
     "execution_count": 4,
     "metadata": {},
     "output_type": "execute_result"
    }
   ],
   "source": [
    "X = no_nans.drop(columns=['domestic_total_gross'])\n",
    "y = no_nans['domestic_total_gross']\n",
    "\n",
    "X_train_val, X_test, y_train_val, y_test = train_test_split(X, y, test_size = 0.2, random_state=33)\n",
    "X_train, X_val, y_train, y_val = train_test_split(X_train_val, y_train_val, test_size = 0.25, random_state=64)\n",
    "X_train.columns"
   ]
  },
  {
   "cell_type": "markdown",
   "metadata": {},
   "source": [
    "Standardize features, then run Ordinary Least Squares via statsmodel."
   ]
  },
  {
   "cell_type": "code",
   "execution_count": 5,
   "metadata": {},
   "outputs": [
    {
     "data": {
      "text/html": [
       "<table class=\"simpletable\">\n",
       "<caption>OLS Regression Results</caption>\n",
       "<tr>\n",
       "  <th>Dep. Variable:</th>    <td>domestic_total_gross</td> <th>  R-squared (uncentered):</th>      <td>   0.555</td> \n",
       "</tr>\n",
       "<tr>\n",
       "  <th>Model:</th>                     <td>OLS</td>         <th>  Adj. R-squared (uncentered):</th> <td>   0.548</td> \n",
       "</tr>\n",
       "<tr>\n",
       "  <th>Method:</th>               <td>Least Squares</td>    <th>  F-statistic:       </th>          <td>   77.10</td> \n",
       "</tr>\n",
       "<tr>\n",
       "  <th>Date:</th>               <td>Fri, 17 Jul 2020</td>   <th>  Prob (F-statistic):</th>          <td>6.50e-92</td> \n",
       "</tr>\n",
       "<tr>\n",
       "  <th>Time:</th>                   <td>03:38:36</td>       <th>  Log-Likelihood:    </th>          <td> -10847.</td> \n",
       "</tr>\n",
       "<tr>\n",
       "  <th>No. Observations:</th>        <td>   565</td>        <th>  AIC:               </th>          <td>2.171e+04</td>\n",
       "</tr>\n",
       "<tr>\n",
       "  <th>Df Residuals:</th>            <td>   556</td>        <th>  BIC:               </th>          <td>2.175e+04</td>\n",
       "</tr>\n",
       "<tr>\n",
       "  <th>Df Model:</th>                <td>     9</td>        <th>                     </th>              <td> </td>    \n",
       "</tr>\n",
       "<tr>\n",
       "  <th>Covariance Type:</th>        <td>nonrobust</td>      <th>                     </th>              <td> </td>    \n",
       "</tr>\n",
       "</table>\n",
       "<table class=\"simpletable\">\n",
       "<tr>\n",
       "    <td></td>       <th>coef</th>     <th>std err</th>      <th>t</th>      <th>P>|t|</th>  <th>[0.025</th>    <th>0.975]</th>  \n",
       "</tr>\n",
       "<tr>\n",
       "  <th>x1</th>    <td>-1.175e+06</td> <td> 2.26e+06</td> <td>   -0.521</td> <td> 0.603</td> <td>-5.61e+06</td> <td> 3.26e+06</td>\n",
       "</tr>\n",
       "<tr>\n",
       "  <th>x2</th>    <td> 4.655e+07</td> <td> 2.52e+06</td> <td>   18.443</td> <td> 0.000</td> <td> 4.16e+07</td> <td> 5.15e+07</td>\n",
       "</tr>\n",
       "<tr>\n",
       "  <th>x3</th>    <td> 4.667e+06</td> <td> 2.29e+06</td> <td>    2.036</td> <td> 0.042</td> <td> 1.64e+05</td> <td> 9.17e+06</td>\n",
       "</tr>\n",
       "<tr>\n",
       "  <th>x4</th>    <td> 4.344e+05</td> <td> 2.55e+06</td> <td>    0.170</td> <td> 0.865</td> <td>-4.57e+06</td> <td> 5.44e+06</td>\n",
       "</tr>\n",
       "<tr>\n",
       "  <th>x5</th>    <td> 2.653e+06</td> <td> 2.91e+06</td> <td>    0.911</td> <td> 0.363</td> <td>-3.07e+06</td> <td> 8.37e+06</td>\n",
       "</tr>\n",
       "<tr>\n",
       "  <th>x6</th>    <td> 1.998e+07</td> <td> 2.61e+06</td> <td>    7.658</td> <td> 0.000</td> <td> 1.49e+07</td> <td> 2.51e+07</td>\n",
       "</tr>\n",
       "<tr>\n",
       "  <th>const</th> <td>-5.447e-10</td> <td> 8.44e-10</td> <td>   -0.645</td> <td> 0.519</td> <td> -2.2e-09</td> <td> 1.11e-09</td>\n",
       "</tr>\n",
       "<tr>\n",
       "  <th>x7</th>    <td>-2.804e-10</td> <td> 6.88e-10</td> <td>   -0.407</td> <td> 0.684</td> <td>-1.63e-09</td> <td> 1.07e-09</td>\n",
       "</tr>\n",
       "<tr>\n",
       "  <th>x8</th>    <td> 2.478e+06</td> <td> 2.25e+06</td> <td>    1.102</td> <td> 0.271</td> <td>-1.94e+06</td> <td> 6.89e+06</td>\n",
       "</tr>\n",
       "<tr>\n",
       "  <th>x9</th>    <td> 3.169e+06</td> <td> 2.26e+06</td> <td>    1.405</td> <td> 0.161</td> <td>-1.26e+06</td> <td>  7.6e+06</td>\n",
       "</tr>\n",
       "<tr>\n",
       "  <th>x10</th>   <td>-9.985e+05</td> <td> 2.26e+06</td> <td>   -0.442</td> <td> 0.659</td> <td>-5.44e+06</td> <td> 3.44e+06</td>\n",
       "</tr>\n",
       "</table>\n",
       "<table class=\"simpletable\">\n",
       "<tr>\n",
       "  <th>Omnibus:</th>       <td>299.630</td> <th>  Durbin-Watson:     </th> <td>   1.451</td>\n",
       "</tr>\n",
       "<tr>\n",
       "  <th>Prob(Omnibus):</th> <td> 0.000</td>  <th>  Jarque-Bera (JB):  </th> <td>6119.402</td>\n",
       "</tr>\n",
       "<tr>\n",
       "  <th>Skew:</th>          <td> 1.864</td>  <th>  Prob(JB):          </th> <td>    0.00</td>\n",
       "</tr>\n",
       "<tr>\n",
       "  <th>Kurtosis:</th>      <td>18.686</td>  <th>  Cond. No.          </th> <td>1.25e+17</td>\n",
       "</tr>\n",
       "</table><br/><br/>Warnings:<br/>[1] Standard Errors assume that the covariance matrix of the errors is correctly specified.<br/>[2] The smallest eigenvalue is 7.68e-32. This might indicate that there are<br/>strong multicollinearity problems or that the design matrix is singular."
      ],
      "text/plain": [
       "<class 'statsmodels.iolib.summary.Summary'>\n",
       "\"\"\"\n",
       "                                  OLS Regression Results                                 \n",
       "=========================================================================================\n",
       "Dep. Variable:     domestic_total_gross   R-squared (uncentered):                   0.555\n",
       "Model:                              OLS   Adj. R-squared (uncentered):              0.548\n",
       "Method:                   Least Squares   F-statistic:                              77.10\n",
       "Date:                  Fri, 17 Jul 2020   Prob (F-statistic):                    6.50e-92\n",
       "Time:                          03:38:36   Log-Likelihood:                         -10847.\n",
       "No. Observations:                   565   AIC:                                  2.171e+04\n",
       "Df Residuals:                       556   BIC:                                  2.175e+04\n",
       "Df Model:                             9                                                  \n",
       "Covariance Type:              nonrobust                                                  \n",
       "==============================================================================\n",
       "                 coef    std err          t      P>|t|      [0.025      0.975]\n",
       "------------------------------------------------------------------------------\n",
       "x1         -1.175e+06   2.26e+06     -0.521      0.603   -5.61e+06    3.26e+06\n",
       "x2          4.655e+07   2.52e+06     18.443      0.000    4.16e+07    5.15e+07\n",
       "x3          4.667e+06   2.29e+06      2.036      0.042    1.64e+05    9.17e+06\n",
       "x4          4.344e+05   2.55e+06      0.170      0.865   -4.57e+06    5.44e+06\n",
       "x5          2.653e+06   2.91e+06      0.911      0.363   -3.07e+06    8.37e+06\n",
       "x6          1.998e+07   2.61e+06      7.658      0.000    1.49e+07    2.51e+07\n",
       "const      -5.447e-10   8.44e-10     -0.645      0.519    -2.2e-09    1.11e-09\n",
       "x7         -2.804e-10   6.88e-10     -0.407      0.684   -1.63e-09    1.07e-09\n",
       "x8          2.478e+06   2.25e+06      1.102      0.271   -1.94e+06    6.89e+06\n",
       "x9          3.169e+06   2.26e+06      1.405      0.161   -1.26e+06     7.6e+06\n",
       "x10        -9.985e+05   2.26e+06     -0.442      0.659   -5.44e+06    3.44e+06\n",
       "==============================================================================\n",
       "Omnibus:                      299.630   Durbin-Watson:                   1.451\n",
       "Prob(Omnibus):                  0.000   Jarque-Bera (JB):             6119.402\n",
       "Skew:                           1.864   Prob(JB):                         0.00\n",
       "Kurtosis:                      18.686   Cond. No.                     1.25e+17\n",
       "==============================================================================\n",
       "\n",
       "Warnings:\n",
       "[1] Standard Errors assume that the covariance matrix of the errors is correctly specified.\n",
       "[2] The smallest eigenvalue is 7.68e-32. This might indicate that there are\n",
       "strong multicollinearity problems or that the design matrix is singular.\n",
       "\"\"\""
      ]
     },
     "execution_count": 5,
     "metadata": {},
     "output_type": "execute_result"
    }
   ],
   "source": [
    "std = StandardScaler()\n",
    "std.fit(X_train.values)\n",
    "X_tr = std.transform(X_train.values)\n",
    "X_te = std.transform(X_test.values)\n",
    "\n",
    "model = sm.OLS(y_train, X_tr)\n",
    "results = model.fit()\n",
    "results.summary()"
   ]
  },
  {
   "cell_type": "markdown",
   "metadata": {},
   "source": [
    "We get an adjusted R^2 of .548. Not bad, I'll take it!\n",
    "\n",
    "However, the condition number is massive. Not good. Let's see if we can improve that."
   ]
  },
  {
   "cell_type": "code",
   "execution_count": 6,
   "metadata": {},
   "outputs": [
    {
     "data": {
      "text/plain": [
       "[('runtime_minutes', 0.0),\n",
       " ('budget', 39710485.08450327),\n",
       " ('metascores', 0.0),\n",
       " ('audience_scores', 0.0),\n",
       " ('critic_count', 0.0),\n",
       " ('num_audience_ratings', 14069629.567606226),\n",
       " ('rating_G', 0.0),\n",
       " ('rating_M/PG', 0.0),\n",
       " ('rating_PG', 0.0),\n",
       " ('rating_PG-13', 0.0),\n",
       " ('rating_R', -0.0)]"
      ]
     },
     "execution_count": 6,
     "metadata": {},
     "output_type": "execute_result"
    }
   ],
   "source": [
    "lasso_model = Lasso(alpha = 10000000)\n",
    "lasso_model.fit(X_tr, y_train)\n",
    "list(zip(X_train.columns, lasso_model.coef_))"
   ]
  },
  {
   "cell_type": "markdown",
   "metadata": {},
   "source": [
    "Taking LASSO to the extreme alpha value of 10,000,000 removes all coefficients except budget and number of audience ratings. I'm interested in seeing the results of following LASSO's feature recommendations:"
   ]
  },
  {
   "cell_type": "code",
   "execution_count": 7,
   "metadata": {},
   "outputs": [
    {
     "data": {
      "text/html": [
       "<table class=\"simpletable\">\n",
       "<caption>OLS Regression Results</caption>\n",
       "<tr>\n",
       "  <th>Dep. Variable:</th>    <td>domestic_total_gross</td> <th>  R-squared:         </th> <td>   0.656</td> \n",
       "</tr>\n",
       "<tr>\n",
       "  <th>Model:</th>                     <td>OLS</td>         <th>  Adj. R-squared:    </th> <td>   0.655</td> \n",
       "</tr>\n",
       "<tr>\n",
       "  <th>Method:</th>               <td>Least Squares</td>    <th>  F-statistic:       </th> <td>   896.4</td> \n",
       "</tr>\n",
       "<tr>\n",
       "  <th>Date:</th>               <td>Fri, 17 Jul 2020</td>   <th>  Prob (F-statistic):</th> <td>1.47e-218</td>\n",
       "</tr>\n",
       "<tr>\n",
       "  <th>Time:</th>                   <td>03:38:36</td>       <th>  Log-Likelihood:    </th> <td> -17863.</td> \n",
       "</tr>\n",
       "<tr>\n",
       "  <th>No. Observations:</th>        <td>   943</td>        <th>  AIC:               </th> <td>3.573e+04</td>\n",
       "</tr>\n",
       "<tr>\n",
       "  <th>Df Residuals:</th>            <td>   940</td>        <th>  BIC:               </th> <td>3.575e+04</td>\n",
       "</tr>\n",
       "<tr>\n",
       "  <th>Df Model:</th>                <td>     2</td>        <th>                     </th>     <td> </td>    \n",
       "</tr>\n",
       "<tr>\n",
       "  <th>Covariance Type:</th>        <td>nonrobust</td>      <th>                     </th>     <td> </td>    \n",
       "</tr>\n",
       "</table>\n",
       "<table class=\"simpletable\">\n",
       "<tr>\n",
       "                  <td></td>                     <th>coef</th>     <th>std err</th>      <th>t</th>      <th>P>|t|</th>  <th>[0.025</th>    <th>0.975]</th>  \n",
       "</tr>\n",
       "<tr>\n",
       "  <th>Intercept</th>                         <td> 2.494e+07</td> <td> 1.33e+06</td> <td>   18.751</td> <td> 0.000</td> <td> 2.23e+07</td> <td> 2.75e+07</td>\n",
       "</tr>\n",
       "<tr>\n",
       "  <th>standardize(budget)</th>               <td> 4.389e+07</td> <td> 1.49e+06</td> <td>   29.395</td> <td> 0.000</td> <td>  4.1e+07</td> <td> 4.68e+07</td>\n",
       "</tr>\n",
       "<tr>\n",
       "  <th>standardize(num_audience_ratings)</th> <td> 2.057e+07</td> <td> 1.49e+06</td> <td>   13.776</td> <td> 0.000</td> <td> 1.76e+07</td> <td> 2.35e+07</td>\n",
       "</tr>\n",
       "</table>\n",
       "<table class=\"simpletable\">\n",
       "<tr>\n",
       "  <th>Omnibus:</th>       <td>604.519</td> <th>  Durbin-Watson:     </th> <td>   1.549</td> \n",
       "</tr>\n",
       "<tr>\n",
       "  <th>Prob(Omnibus):</th> <td> 0.000</td>  <th>  Jarque-Bera (JB):  </th> <td>17910.010</td>\n",
       "</tr>\n",
       "<tr>\n",
       "  <th>Skew:</th>          <td> 2.434</td>  <th>  Prob(JB):          </th> <td>    0.00</td> \n",
       "</tr>\n",
       "<tr>\n",
       "  <th>Kurtosis:</th>      <td>23.787</td>  <th>  Cond. No.          </th> <td>    1.63</td> \n",
       "</tr>\n",
       "</table><br/><br/>Warnings:<br/>[1] Standard Errors assume that the covariance matrix of the errors is correctly specified."
      ],
      "text/plain": [
       "<class 'statsmodels.iolib.summary.Summary'>\n",
       "\"\"\"\n",
       "                             OLS Regression Results                             \n",
       "================================================================================\n",
       "Dep. Variable:     domestic_total_gross   R-squared:                       0.656\n",
       "Model:                              OLS   Adj. R-squared:                  0.655\n",
       "Method:                   Least Squares   F-statistic:                     896.4\n",
       "Date:                  Fri, 17 Jul 2020   Prob (F-statistic):          1.47e-218\n",
       "Time:                          03:38:36   Log-Likelihood:                -17863.\n",
       "No. Observations:                   943   AIC:                         3.573e+04\n",
       "Df Residuals:                       940   BIC:                         3.575e+04\n",
       "Df Model:                             2                                         \n",
       "Covariance Type:              nonrobust                                         \n",
       "=====================================================================================================\n",
       "                                        coef    std err          t      P>|t|      [0.025      0.975]\n",
       "-----------------------------------------------------------------------------------------------------\n",
       "Intercept                          2.494e+07   1.33e+06     18.751      0.000    2.23e+07    2.75e+07\n",
       "standardize(budget)                4.389e+07   1.49e+06     29.395      0.000     4.1e+07    4.68e+07\n",
       "standardize(num_audience_ratings)  2.057e+07   1.49e+06     13.776      0.000    1.76e+07    2.35e+07\n",
       "==============================================================================\n",
       "Omnibus:                      604.519   Durbin-Watson:                   1.549\n",
       "Prob(Omnibus):                  0.000   Jarque-Bera (JB):            17910.010\n",
       "Skew:                           2.434   Prob(JB):                         0.00\n",
       "Kurtosis:                      23.787   Cond. No.                         1.63\n",
       "==============================================================================\n",
       "\n",
       "Warnings:\n",
       "[1] Standard Errors assume that the covariance matrix of the errors is correctly specified.\n",
       "\"\"\""
      ]
     },
     "execution_count": 7,
     "metadata": {},
     "output_type": "execute_result"
    }
   ],
   "source": [
    "y, X = patsy.dmatrices('domestic_total_gross ~ standardize(budget) + standardize(num_audience_ratings)', data=no_nans, return_type=\"dataframe\")\n",
    "model = sm.OLS(y, X).fit()\n",
    "model.summary()"
   ]
  },
  {
   "cell_type": "markdown",
   "metadata": {},
   "source": [
    "It almost seems too good to be true! I'm not 100% sure how the train/test split works with statsmodels, or if they even go there, so I'm going to use sklearn for my official model. But this looks very promising! The condition number is extremely low, and the adjusted R^2 has gained .107."
   ]
  },
  {
   "cell_type": "markdown",
   "metadata": {},
   "source": [
    "-----------------------------"
   ]
  },
  {
   "cell_type": "markdown",
   "metadata": {},
   "source": [
    "Toning down the alpha by one order of magnitude, we get some coefficients that are maybe more \"reasonable\". Trying to interpret these coefficients, I would say they appear to make sense - runtime is very slightly negatively correlated with sales, budget is highly positively correlated, professional critic ratings have a modest positive correlation, audience reviews have an almost negligible positive correlation, and number of audience ratings have a high positive correlation (the more people that have reviewed the movie, the more people ostensibly bought tickets? Or at least spread the word - any publicity is good publicity). Finally, ratings of G/PG have no effect (at least in comparison to other features), while a PG rating gives a slight positive boost, PG-13 increases on that, and R brings it back to negative (less kids able to buy tickets)."
   ]
  },
  {
   "cell_type": "code",
   "execution_count": 8,
   "metadata": {},
   "outputs": [
    {
     "data": {
      "text/plain": [
       "[('runtime_minutes', -71439.68935293728),\n",
       " ('budget', 45843318.376405),\n",
       " ('metascores', 3697077.0869945274),\n",
       " ('audience_scores', 14304.178642002247),\n",
       " ('critic_count', 2461606.8849038715),\n",
       " ('num_audience_ratings', 19399812.384545572),\n",
       " ('rating_G', 0.0),\n",
       " ('rating_M/PG', 0.0),\n",
       " ('rating_PG', 1550038.3461080245),\n",
       " ('rating_PG-13', 2265448.1793443235),\n",
       " ('rating_R', -143041.7738410253)]"
      ]
     },
     "execution_count": 8,
     "metadata": {},
     "output_type": "execute_result"
    }
   ],
   "source": [
    "lasso_model = Lasso(alpha = 1000000)\n",
    "lasso_model.fit(X_tr, y_train)\n",
    "list(zip(X_train.columns, lasso_model.coef_))"
   ]
  },
  {
   "cell_type": "markdown",
   "metadata": {},
   "source": [
    "Something else I tried was adding an interaction term - multiplying number of critics by number of audience ratings, because the two features are pretty similar to each other (although number of audience ratings appears to be a stronger feature according to LASSO)."
   ]
  },
  {
   "cell_type": "code",
   "execution_count": 9,
   "metadata": {},
   "outputs": [
    {
     "name": "stderr",
     "output_type": "stream",
     "text": [
      "/home/nick/anaconda3/lib/python3.7/site-packages/ipykernel_launcher.py:1: SettingWithCopyWarning: \n",
      "A value is trying to be set on a copy of a slice from a DataFrame.\n",
      "Try using .loc[row_indexer,col_indexer] = value instead\n",
      "\n",
      "See the caveats in the documentation: https://pandas.pydata.org/pandas-docs/stable/user_guide/indexing.html#returning-a-view-versus-a-copy\n",
      "  \"\"\"Entry point for launching an IPython kernel.\n"
     ]
    },
    {
     "data": {
      "text/html": [
       "<div>\n",
       "<style scoped>\n",
       "    .dataframe tbody tr th:only-of-type {\n",
       "        vertical-align: middle;\n",
       "    }\n",
       "\n",
       "    .dataframe tbody tr th {\n",
       "        vertical-align: top;\n",
       "    }\n",
       "\n",
       "    .dataframe thead th {\n",
       "        text-align: right;\n",
       "    }\n",
       "</style>\n",
       "<table border=\"1\" class=\"dataframe\">\n",
       "  <thead>\n",
       "    <tr style=\"text-align: right;\">\n",
       "      <th></th>\n",
       "      <th>domestic_total_gross</th>\n",
       "      <th>runtime_minutes</th>\n",
       "      <th>budget</th>\n",
       "      <th>metascores</th>\n",
       "      <th>audience_scores</th>\n",
       "      <th>critic_count</th>\n",
       "      <th>num_audience_ratings</th>\n",
       "      <th>rating_G</th>\n",
       "      <th>rating_M/PG</th>\n",
       "      <th>rating_PG</th>\n",
       "      <th>rating_PG-13</th>\n",
       "      <th>rating_R</th>\n",
       "      <th>index_counts</th>\n",
       "    </tr>\n",
       "  </thead>\n",
       "  <tbody>\n",
       "    <tr>\n",
       "      <th>5</th>\n",
       "      <td>270620950.0</td>\n",
       "      <td>85.0</td>\n",
       "      <td>75000000.0</td>\n",
       "      <td>95.0</td>\n",
       "      <td>6.0</td>\n",
       "      <td>46.0</td>\n",
       "      <td>1199.0</td>\n",
       "      <td>0.0</td>\n",
       "      <td>0.0</td>\n",
       "      <td>1.0</td>\n",
       "      <td>0.0</td>\n",
       "      <td>0.0</td>\n",
       "      <td>55154.0</td>\n",
       "    </tr>\n",
       "    <tr>\n",
       "      <th>10</th>\n",
       "      <td>213515506.0</td>\n",
       "      <td>112.0</td>\n",
       "      <td>100000000.0</td>\n",
       "      <td>48.0</td>\n",
       "      <td>6.0</td>\n",
       "      <td>52.0</td>\n",
       "      <td>628.0</td>\n",
       "      <td>0.0</td>\n",
       "      <td>0.0</td>\n",
       "      <td>0.0</td>\n",
       "      <td>1.0</td>\n",
       "      <td>0.0</td>\n",
       "      <td>32656.0</td>\n",
       "    </tr>\n",
       "    <tr>\n",
       "      <th>11</th>\n",
       "      <td>215288866.0</td>\n",
       "      <td>136.0</td>\n",
       "      <td>36000000.0</td>\n",
       "      <td>80.0</td>\n",
       "      <td>7.0</td>\n",
       "      <td>41.0</td>\n",
       "      <td>79.0</td>\n",
       "      <td>0.0</td>\n",
       "      <td>0.0</td>\n",
       "      <td>0.0</td>\n",
       "      <td>0.0</td>\n",
       "      <td>1.0</td>\n",
       "      <td>3239.0</td>\n",
       "    </tr>\n",
       "    <tr>\n",
       "      <th>12</th>\n",
       "      <td>335061807.0</td>\n",
       "      <td>143.0</td>\n",
       "      <td>0.0</td>\n",
       "      <td>72.0</td>\n",
       "      <td>8.0</td>\n",
       "      <td>25.0</td>\n",
       "      <td>26.0</td>\n",
       "      <td>0.0</td>\n",
       "      <td>0.0</td>\n",
       "      <td>0.0</td>\n",
       "      <td>1.0</td>\n",
       "      <td>0.0</td>\n",
       "      <td>650.0</td>\n",
       "    </tr>\n",
       "    <tr>\n",
       "      <th>15</th>\n",
       "      <td>201091711.0</td>\n",
       "      <td>112.0</td>\n",
       "      <td>175000000.0</td>\n",
       "      <td>28.0</td>\n",
       "      <td>5.0</td>\n",
       "      <td>4.0</td>\n",
       "      <td>9.0</td>\n",
       "      <td>0.0</td>\n",
       "      <td>0.0</td>\n",
       "      <td>1.0</td>\n",
       "      <td>0.0</td>\n",
       "      <td>0.0</td>\n",
       "      <td>36.0</td>\n",
       "    </tr>\n",
       "    <tr>\n",
       "      <th>...</th>\n",
       "      <td>...</td>\n",
       "      <td>...</td>\n",
       "      <td>...</td>\n",
       "      <td>...</td>\n",
       "      <td>...</td>\n",
       "      <td>...</td>\n",
       "      <td>...</td>\n",
       "      <td>...</td>\n",
       "      <td>...</td>\n",
       "      <td>...</td>\n",
       "      <td>...</td>\n",
       "      <td>...</td>\n",
       "      <td>...</td>\n",
       "    </tr>\n",
       "    <tr>\n",
       "      <th>246</th>\n",
       "      <td>5166.0</td>\n",
       "      <td>72.0</td>\n",
       "      <td>0.0</td>\n",
       "      <td>81.0</td>\n",
       "      <td>0.0</td>\n",
       "      <td>10.0</td>\n",
       "      <td>0.0</td>\n",
       "      <td>0.0</td>\n",
       "      <td>0.0</td>\n",
       "      <td>0.0</td>\n",
       "      <td>0.0</td>\n",
       "      <td>0.0</td>\n",
       "      <td>0.0</td>\n",
       "    </tr>\n",
       "    <tr>\n",
       "      <th>247</th>\n",
       "      <td>3816.0</td>\n",
       "      <td>105.0</td>\n",
       "      <td>0.0</td>\n",
       "      <td>47.0</td>\n",
       "      <td>4.0</td>\n",
       "      <td>31.0</td>\n",
       "      <td>100.0</td>\n",
       "      <td>0.0</td>\n",
       "      <td>0.0</td>\n",
       "      <td>0.0</td>\n",
       "      <td>0.0</td>\n",
       "      <td>0.0</td>\n",
       "      <td>3100.0</td>\n",
       "    </tr>\n",
       "    <tr>\n",
       "      <th>248</th>\n",
       "      <td>1051.0</td>\n",
       "      <td>0.0</td>\n",
       "      <td>0.0</td>\n",
       "      <td>68.0</td>\n",
       "      <td>7.0</td>\n",
       "      <td>20.0</td>\n",
       "      <td>5.0</td>\n",
       "      <td>0.0</td>\n",
       "      <td>0.0</td>\n",
       "      <td>0.0</td>\n",
       "      <td>0.0</td>\n",
       "      <td>0.0</td>\n",
       "      <td>100.0</td>\n",
       "    </tr>\n",
       "    <tr>\n",
       "      <th>249</th>\n",
       "      <td>225250.0</td>\n",
       "      <td>87.0</td>\n",
       "      <td>0.0</td>\n",
       "      <td>79.0</td>\n",
       "      <td>0.0</td>\n",
       "      <td>14.0</td>\n",
       "      <td>0.0</td>\n",
       "      <td>0.0</td>\n",
       "      <td>0.0</td>\n",
       "      <td>0.0</td>\n",
       "      <td>0.0</td>\n",
       "      <td>0.0</td>\n",
       "      <td>0.0</td>\n",
       "    </tr>\n",
       "    <tr>\n",
       "      <th>250</th>\n",
       "      <td>564.0</td>\n",
       "      <td>96.0</td>\n",
       "      <td>0.0</td>\n",
       "      <td>61.0</td>\n",
       "      <td>0.0</td>\n",
       "      <td>15.0</td>\n",
       "      <td>0.0</td>\n",
       "      <td>0.0</td>\n",
       "      <td>0.0</td>\n",
       "      <td>0.0</td>\n",
       "      <td>0.0</td>\n",
       "      <td>0.0</td>\n",
       "      <td>0.0</td>\n",
       "    </tr>\n",
       "  </tbody>\n",
       "</table>\n",
       "<p>943 rows × 13 columns</p>\n",
       "</div>"
      ],
      "text/plain": [
       "     domestic_total_gross  runtime_minutes       budget  metascores  \\\n",
       "5             270620950.0             85.0   75000000.0        95.0   \n",
       "10            213515506.0            112.0  100000000.0        48.0   \n",
       "11            215288866.0            136.0   36000000.0        80.0   \n",
       "12            335061807.0            143.0          0.0        72.0   \n",
       "15            201091711.0            112.0  175000000.0        28.0   \n",
       "..                    ...              ...          ...         ...   \n",
       "246                5166.0             72.0          0.0        81.0   \n",
       "247                3816.0            105.0          0.0        47.0   \n",
       "248                1051.0              0.0          0.0        68.0   \n",
       "249              225250.0             87.0          0.0        79.0   \n",
       "250                 564.0             96.0          0.0        61.0   \n",
       "\n",
       "     audience_scores  critic_count  num_audience_ratings  rating_G  \\\n",
       "5                6.0          46.0                1199.0       0.0   \n",
       "10               6.0          52.0                 628.0       0.0   \n",
       "11               7.0          41.0                  79.0       0.0   \n",
       "12               8.0          25.0                  26.0       0.0   \n",
       "15               5.0           4.0                   9.0       0.0   \n",
       "..               ...           ...                   ...       ...   \n",
       "246              0.0          10.0                   0.0       0.0   \n",
       "247              4.0          31.0                 100.0       0.0   \n",
       "248              7.0          20.0                   5.0       0.0   \n",
       "249              0.0          14.0                   0.0       0.0   \n",
       "250              0.0          15.0                   0.0       0.0   \n",
       "\n",
       "     rating_M/PG  rating_PG  rating_PG-13  rating_R  index_counts  \n",
       "5            0.0        1.0           0.0       0.0       55154.0  \n",
       "10           0.0        0.0           1.0       0.0       32656.0  \n",
       "11           0.0        0.0           0.0       1.0        3239.0  \n",
       "12           0.0        0.0           1.0       0.0         650.0  \n",
       "15           0.0        1.0           0.0       0.0          36.0  \n",
       "..           ...        ...           ...       ...           ...  \n",
       "246          0.0        0.0           0.0       0.0           0.0  \n",
       "247          0.0        0.0           0.0       0.0        3100.0  \n",
       "248          0.0        0.0           0.0       0.0         100.0  \n",
       "249          0.0        0.0           0.0       0.0           0.0  \n",
       "250          0.0        0.0           0.0       0.0           0.0  \n",
       "\n",
       "[943 rows x 13 columns]"
      ]
     },
     "execution_count": 9,
     "metadata": {},
     "output_type": "execute_result"
    }
   ],
   "source": [
    "no_nans['index_counts'] = no_nans['critic_count'] * no_nans['num_audience_ratings']\n",
    "no_nans"
   ]
  },
  {
   "cell_type": "code",
   "execution_count": 10,
   "metadata": {},
   "outputs": [
    {
     "data": {
      "text/plain": [
       "<seaborn.axisgrid.FacetGrid at 0x7f4a45f7ff90>"
      ]
     },
     "execution_count": 10,
     "metadata": {},
     "output_type": "execute_result"
    },
    {
     "data": {
      "image/png": "[encoded data removed]",
      "text/plain": [
       "<Figure size 360x360 with 1 Axes>"
      ]
     },
     "metadata": {
      "needs_background": "light"
     },
     "output_type": "display_data"
    }
   ],
   "source": [
    "sns.lmplot(x='index_counts', y='domestic_total_gross', data=no_nans)"
   ]
  },
  {
   "cell_type": "code",
   "execution_count": 11,
   "metadata": {},
   "outputs": [
    {
     "name": "stderr",
     "output_type": "stream",
     "text": [
      "/home/nick/anaconda3/lib/python3.7/site-packages/pandas/core/series.py:679: RuntimeWarning: divide by zero encountered in log\n",
      "  result = getattr(ufunc, method)(*inputs, **kwargs)\n",
      "/home/nick/anaconda3/lib/python3.7/site-packages/numpy/core/function_base.py:153: RuntimeWarning: invalid value encountered in multiply\n",
      "  y *= step\n",
      "/home/nick/anaconda3/lib/python3.7/site-packages/numpy/core/function_base.py:163: RuntimeWarning: invalid value encountered in add\n",
      "  y += start\n",
      "/home/nick/anaconda3/lib/python3.7/site-packages/numpy/linalg/linalg.py:1965: RuntimeWarning: invalid value encountered in greater\n",
      "  large = s > cutoff\n"
     ]
    },
    {
     "data": {
      "text/plain": [
       "<seaborn.axisgrid.FacetGrid at 0x7f4a445fed50>"
      ]
     },
     "execution_count": 11,
     "metadata": {},
     "output_type": "execute_result"
    },
    {
     "data": {
      "image/png": "[encoded data removed]",
      "text/plain": [
       "<Figure size 360x360 with 1 Axes>"
      ]
     },
     "metadata": {
      "needs_background": "light"
     },
     "output_type": "display_data"
    }
   ],
   "source": [
    "log_transform = no_nans.transform(lambda x: np.log(x))\n",
    "sns.lmplot(x='index_counts', y='domestic_total_gross', data=log_transform)"
   ]
  },
  {
   "cell_type": "code",
   "execution_count": 12,
   "metadata": {},
   "outputs": [
    {
     "data": {
      "text/html": [
       "<table class=\"simpletable\">\n",
       "<caption>OLS Regression Results</caption>\n",
       "<tr>\n",
       "  <th>Dep. Variable:</th>    <td>domestic_total_gross</td> <th>  R-squared:         </th> <td>   0.656</td> \n",
       "</tr>\n",
       "<tr>\n",
       "  <th>Model:</th>                     <td>OLS</td>         <th>  Adj. R-squared:    </th> <td>   0.655</td> \n",
       "</tr>\n",
       "<tr>\n",
       "  <th>Method:</th>               <td>Least Squares</td>    <th>  F-statistic:       </th> <td>   894.8</td> \n",
       "</tr>\n",
       "<tr>\n",
       "  <th>Date:</th>               <td>Fri, 17 Jul 2020</td>   <th>  Prob (F-statistic):</th> <td>2.54e-218</td>\n",
       "</tr>\n",
       "<tr>\n",
       "  <th>Time:</th>                   <td>03:38:37</td>       <th>  Log-Likelihood:    </th> <td> -17863.</td> \n",
       "</tr>\n",
       "<tr>\n",
       "  <th>No. Observations:</th>        <td>   943</td>        <th>  AIC:               </th> <td>3.573e+04</td>\n",
       "</tr>\n",
       "<tr>\n",
       "  <th>Df Residuals:</th>            <td>   940</td>        <th>  BIC:               </th> <td>3.575e+04</td>\n",
       "</tr>\n",
       "<tr>\n",
       "  <th>Df Model:</th>                <td>     2</td>        <th>                     </th>     <td> </td>    \n",
       "</tr>\n",
       "<tr>\n",
       "  <th>Covariance Type:</th>        <td>nonrobust</td>      <th>                     </th>     <td> </td>    \n",
       "</tr>\n",
       "</table>\n",
       "<table class=\"simpletable\">\n",
       "<tr>\n",
       "                                  <td></td>                                    <th>coef</th>     <th>std err</th>      <th>t</th>      <th>P>|t|</th>  <th>[0.025</th>    <th>0.975]</th>  \n",
       "</tr>\n",
       "<tr>\n",
       "  <th>Intercept</th>                                                        <td> 2.076e+07</td> <td> 1.37e+06</td> <td>   15.211</td> <td> 0.000</td> <td> 1.81e+07</td> <td> 2.34e+07</td>\n",
       "</tr>\n",
       "<tr>\n",
       "  <th>standardize(budget)</th>                                              <td> 4.467e+07</td> <td> 1.47e+06</td> <td>   30.380</td> <td> 0.000</td> <td> 4.18e+07</td> <td> 4.76e+07</td>\n",
       "</tr>\n",
       "<tr>\n",
       "  <th>I(standardize(num_audience_ratings) * standardize(critic_count))</th> <td> 8.825e+06</td> <td> 6.43e+05</td> <td>   13.728</td> <td> 0.000</td> <td> 7.56e+06</td> <td> 1.01e+07</td>\n",
       "</tr>\n",
       "</table>\n",
       "<table class=\"simpletable\">\n",
       "<tr>\n",
       "  <th>Omnibus:</th>       <td>653.367</td> <th>  Durbin-Watson:     </th> <td>   1.553</td> \n",
       "</tr>\n",
       "<tr>\n",
       "  <th>Prob(Omnibus):</th> <td> 0.000</td>  <th>  Jarque-Bera (JB):  </th> <td>19124.249</td>\n",
       "</tr>\n",
       "<tr>\n",
       "  <th>Skew:</th>          <td> 2.743</td>  <th>  Prob(JB):          </th> <td>    0.00</td> \n",
       "</tr>\n",
       "<tr>\n",
       "  <th>Kurtosis:</th>      <td>24.369</td>  <th>  Cond. No.          </th> <td>    2.75</td> \n",
       "</tr>\n",
       "</table><br/><br/>Warnings:<br/>[1] Standard Errors assume that the covariance matrix of the errors is correctly specified."
      ],
      "text/plain": [
       "<class 'statsmodels.iolib.summary.Summary'>\n",
       "\"\"\"\n",
       "                             OLS Regression Results                             \n",
       "================================================================================\n",
       "Dep. Variable:     domestic_total_gross   R-squared:                       0.656\n",
       "Model:                              OLS   Adj. R-squared:                  0.655\n",
       "Method:                   Least Squares   F-statistic:                     894.8\n",
       "Date:                  Fri, 17 Jul 2020   Prob (F-statistic):          2.54e-218\n",
       "Time:                          03:38:37   Log-Likelihood:                -17863.\n",
       "No. Observations:                   943   AIC:                         3.573e+04\n",
       "Df Residuals:                       940   BIC:                         3.575e+04\n",
       "Df Model:                             2                                         \n",
       "Covariance Type:              nonrobust                                         \n",
       "====================================================================================================================================\n",
       "                                                                       coef    std err          t      P>|t|      [0.025      0.975]\n",
       "------------------------------------------------------------------------------------------------------------------------------------\n",
       "Intercept                                                         2.076e+07   1.37e+06     15.211      0.000    1.81e+07    2.34e+07\n",
       "standardize(budget)                                               4.467e+07   1.47e+06     30.380      0.000    4.18e+07    4.76e+07\n",
       "I(standardize(num_audience_ratings) * standardize(critic_count))  8.825e+06   6.43e+05     13.728      0.000    7.56e+06    1.01e+07\n",
       "==============================================================================\n",
       "Omnibus:                      653.367   Durbin-Watson:                   1.553\n",
       "Prob(Omnibus):                  0.000   Jarque-Bera (JB):            19124.249\n",
       "Skew:                           2.743   Prob(JB):                         0.00\n",
       "Kurtosis:                      24.369   Cond. No.                         2.75\n",
       "==============================================================================\n",
       "\n",
       "Warnings:\n",
       "[1] Standard Errors assume that the covariance matrix of the errors is correctly specified.\n",
       "\"\"\""
      ]
     },
     "execution_count": 12,
     "metadata": {},
     "output_type": "execute_result"
    }
   ],
   "source": [
    "y, X = patsy.dmatrices('domestic_total_gross ~ standardize(budget) + I(standardize(num_audience_ratings) * standardize(critic_count))', data=no_nans, return_type=\"dataframe\")\n",
    "model = sm.OLS(y, X).fit()\n",
    "model.summary()"
   ]
  },
  {
   "cell_type": "markdown",
   "metadata": {},
   "source": [
    "We also get an interesting result using index_count and budget as our two features. I explore a model with only these two features further below. But first..."
   ]
  },
  {
   "cell_type": "markdown",
   "metadata": {},
   "source": [
    "I wanted to try Polynomial and Ridge regression, just in case:"
   ]
  },
  {
   "cell_type": "code",
   "execution_count": 13,
   "metadata": {},
   "outputs": [],
   "source": [
    "X, y = no_nans.drop('domestic_total_gross', axis=1), no_nans['domestic_total_gross']\n",
    "\n",
    "X_train_val, X_test, y_train_val, y_test = train_test_split(X, y, test_size = 0.2, random_state = 42)\n",
    "X_train, X_val, y_train, y_val = train_test_split(X_train_val, y_train_val, test_size = 0.25, random_state = 46)\n",
    "\n",
    "std, lm = StandardScaler(), LinearRegression()\n",
    "\n",
    "X_train_scaled = std.fit_transform(X_train.values)\n",
    "X_val_scaled = std.transform(X_val.values)\n",
    "X_test_scaled = std.transform(X_test.values)\n",
    "\n",
    "lm_reg = Ridge(alpha=1)\n",
    "poly = PolynomialFeatures(degree = 2)\n",
    "\n",
    "X_train_poly = poly.fit_transform(X_train.values)\n",
    "X_val_poly = poly.transform(X_val.values)\n",
    "X_test_poly = poly.transform(X_test.values)\n",
    "\n",
    "lm_poly = LinearRegression()"
   ]
  },
  {
   "cell_type": "code",
   "execution_count": 14,
   "metadata": {},
   "outputs": [
    {
     "name": "stdout",
     "output_type": "stream",
     "text": [
      "Linear Regression val R^2: 0.657\n",
      "Ridge Regression val R^2: 0.661\n",
      "Degree 2 polynomial regression val R^2: -7.364\n"
     ]
    }
   ],
   "source": [
    "lm.fit(X_train, y_train)\n",
    "print(f'Linear Regression val R^2: {lm.score(X_val, y_val):.3f}')\n",
    "\n",
    "lm_reg.fit(X_train_scaled, y_train)\n",
    "print(f'Ridge Regression val R^2: {lm_reg.score(X_val_scaled, y_val):.3f}')\n",
    "\n",
    "lm_poly.fit(X_train_poly, y_train)\n",
    "print(f'Degree 2 polynomial regression val R^2: {lm_poly.score(X_val_poly, y_val): .3f}')"
   ]
  },
  {
   "cell_type": "code",
   "execution_count": 15,
   "metadata": {},
   "outputs": [
    {
     "name": "stdout",
     "output_type": "stream",
     "text": [
      "Polynomial Regression test R^2: 0.696\n"
     ]
    }
   ],
   "source": [
    "lm_poly.fit(X, y)\n",
    "print(f'Polynomial Regression test R^2: {lm_poly.score(X_test, y_test):.3f}')"
   ]
  },
  {
   "cell_type": "markdown",
   "metadata": {},
   "source": [
    "I don't even know how to interpret that... polynomial regression had a negative value on the validation set, but the highest R^2 I've seen yet on the test set. Polynomial Regression has pulled into first place! Let's try it with only budget and index_count:"
   ]
  },
  {
   "cell_type": "code",
   "execution_count": 16,
   "metadata": {},
   "outputs": [],
   "source": [
    "X, y = no_nans.drop(columns=['domestic_total_gross', 'rating_G', 'rating_PG', 'rating_M/PG', 'rating_PG-13', 'rating_R', 'metascores', 'audience_scores', 'critic_count', 'num_audience_ratings', 'runtime_minutes']), no_nans['domestic_total_gross']"
   ]
  },
  {
   "cell_type": "code",
   "execution_count": 17,
   "metadata": {},
   "outputs": [],
   "source": [
    "X, X_test, y, y_test = train_test_split(X, y, test_size=.2, random_state = 31)\n",
    "X_train, X_val, y_train, y_val = train_test_split(X, y, test_size = .25, random_state = 13)"
   ]
  },
  {
   "cell_type": "code",
   "execution_count": 18,
   "metadata": {},
   "outputs": [
    {
     "name": "stdout",
     "output_type": "stream",
     "text": [
      "Degree 2 polynomial regression val R^2:  0.694\n"
     ]
    }
   ],
   "source": [
    "scaler = StandardScaler()\n",
    "\n",
    "X_train_scaled = scaler.fit_transform(X_train.values)\n",
    "X_val_scaled = scaler.transform(X_val.values)\n",
    "X_test_scaled = scaler.transform(X_test.values)\n",
    "\n",
    "poly = PolynomialFeatures(degree=2)\n",
    "X_train_poly = poly.fit_transform(X_train.values)\n",
    "X_val_poly = poly.transform(X_val.values)\n",
    "X_test_poly = poly.transform(X_test.values)\n",
    "\n",
    "lm_poly = LinearRegression()\n",
    "lm_poly.fit(X_train_poly, y_train)\n",
    "print(f'Degree 2 polynomial regression val R^2: {lm_poly.score(X_val_poly, y_val): .3f}')"
   ]
  },
  {
   "cell_type": "code",
   "execution_count": 19,
   "metadata": {},
   "outputs": [
    {
     "name": "stdout",
     "output_type": "stream",
     "text": [
      "Polynomial Regression test R^2: 0.712\n"
     ]
    }
   ],
   "source": [
    "lm_poly.fit(X, y)\n",
    "print(f'Polynomial Regression test R^2: {lm_poly.score(X_test, y_test):.3f}')"
   ]
  },
  {
   "cell_type": "markdown",
   "metadata": {},
   "source": [
    "And just like that, we've achieved the highest test R^2 yet! I'm going to go with this model."
   ]
  },
  {
   "cell_type": "code",
   "execution_count": 20,
   "metadata": {},
   "outputs": [
    {
     "data": {
      "text/html": [
       "<div>\n",
       "<style scoped>\n",
       "    .dataframe tbody tr th:only-of-type {\n",
       "        vertical-align: middle;\n",
       "    }\n",
       "\n",
       "    .dataframe tbody tr th {\n",
       "        vertical-align: top;\n",
       "    }\n",
       "\n",
       "    .dataframe thead th {\n",
       "        text-align: right;\n",
       "    }\n",
       "</style>\n",
       "<table border=\"1\" class=\"dataframe\">\n",
       "  <thead>\n",
       "    <tr style=\"text-align: right;\">\n",
       "      <th></th>\n",
       "      <th>Actual</th>\n",
       "      <th>Predicted</th>\n",
       "    </tr>\n",
       "  </thead>\n",
       "  <tbody>\n",
       "    <tr>\n",
       "      <th>611</th>\n",
       "      <td>70421.0</td>\n",
       "      <td>4.138338e+06</td>\n",
       "    </tr>\n",
       "    <tr>\n",
       "      <th>221</th>\n",
       "      <td>307346.0</td>\n",
       "      <td>4.138338e+06</td>\n",
       "    </tr>\n",
       "    <tr>\n",
       "      <th>590</th>\n",
       "      <td>80115.0</td>\n",
       "      <td>4.138338e+06</td>\n",
       "    </tr>\n",
       "    <tr>\n",
       "      <th>609</th>\n",
       "      <td>378296.0</td>\n",
       "      <td>4.207028e+06</td>\n",
       "    </tr>\n",
       "    <tr>\n",
       "      <th>595</th>\n",
       "      <td>77980.0</td>\n",
       "      <td>4.351682e+06</td>\n",
       "    </tr>\n",
       "    <tr>\n",
       "      <th>...</th>\n",
       "      <td>...</td>\n",
       "      <td>...</td>\n",
       "    </tr>\n",
       "    <tr>\n",
       "      <th>246</th>\n",
       "      <td>5166.0</td>\n",
       "      <td>4.138338e+06</td>\n",
       "    </tr>\n",
       "    <tr>\n",
       "      <th>686</th>\n",
       "      <td>36686.0</td>\n",
       "      <td>4.489062e+06</td>\n",
       "    </tr>\n",
       "    <tr>\n",
       "      <th>210</th>\n",
       "      <td>24951.0</td>\n",
       "      <td>4.138338e+06</td>\n",
       "    </tr>\n",
       "    <tr>\n",
       "      <th>578</th>\n",
       "      <td>76289.0</td>\n",
       "      <td>4.193290e+06</td>\n",
       "    </tr>\n",
       "    <tr>\n",
       "      <th>566</th>\n",
       "      <td>94450.0</td>\n",
       "      <td>4.138338e+06</td>\n",
       "    </tr>\n",
       "  </tbody>\n",
       "</table>\n",
       "<p>189 rows × 2 columns</p>\n",
       "</div>"
      ],
      "text/plain": [
       "       Actual     Predicted\n",
       "611   70421.0  4.138338e+06\n",
       "221  307346.0  4.138338e+06\n",
       "590   80115.0  4.138338e+06\n",
       "609  378296.0  4.207028e+06\n",
       "595   77980.0  4.351682e+06\n",
       "..        ...           ...\n",
       "246    5166.0  4.138338e+06\n",
       "686   36686.0  4.489062e+06\n",
       "210   24951.0  4.138338e+06\n",
       "578   76289.0  4.193290e+06\n",
       "566   94450.0  4.138338e+06\n",
       "\n",
       "[189 rows x 2 columns]"
      ]
     },
     "execution_count": 20,
     "metadata": {},
     "output_type": "execute_result"
    }
   ],
   "source": [
    "y_pred = lm_poly.predict(X_test)\n",
    "pdf = pd.DataFrame({\"Actual\": y_test, \"Predicted\":y_pred})\n",
    "pdf"
   ]
  },
  {
   "cell_type": "code",
   "execution_count": 21,
   "metadata": {},
   "outputs": [
    {
     "data": {
      "text/plain": [
       "0.711940525183939"
      ]
     },
     "execution_count": 21,
     "metadata": {},
     "output_type": "execute_result"
    },
    {
     "data": {
      "image/png": "[encoded data removed]",
      "text/plain": [
       "<Figure size 432x288 with 1 Axes>"
      ]
     },
     "metadata": {
      "needs_background": "light"
     },
     "output_type": "display_data"
    }
   ],
   "source": [
    "test_set_pred = lm_poly.predict(X_test)\n",
    "plt.scatter(test_set_pred, y_test, alpha = .1)\n",
    "plt.plot(np.linspace(0, 600000, 1000), np.linspace(0, 600000, 1000))\n",
    "r2_score(y_test, test_set_pred)"
   ]
  },
  {
   "cell_type": "code",
   "execution_count": 22,
   "metadata": {},
   "outputs": [
    {
     "data": {
      "text/plain": [
       "16205063.83954218"
      ]
     },
     "execution_count": 22,
     "metadata": {},
     "output_type": "execute_result"
    }
   ],
   "source": [
    "#Mean Absolute Error (MAE)\n",
    "def mae(y_true, y_pred):\n",
    "    return np.mean(np.abs(y_pred - y_true)) \n",
    "\n",
    "mae(y_test, test_set_pred)"
   ]
  },
  {
   "cell_type": "code",
   "execution_count": 23,
   "metadata": {},
   "outputs": [
    {
     "data": {
      "text/plain": [
       "1706109920203471.2"
      ]
     },
     "execution_count": 23,
     "metadata": {},
     "output_type": "execute_result"
    }
   ],
   "source": [
    "mean_squared_error(y_test, test_set_pred)"
   ]
  },
  {
   "cell_type": "code",
   "execution_count": 24,
   "metadata": {},
   "outputs": [
    {
     "data": {
      "text/plain": [
       "<seaborn.axisgrid.FacetGrid at 0x7f4a45f844d0>"
      ]
     },
     "execution_count": 24,
     "metadata": {},
     "output_type": "execute_result"
    },
    {
     "data": {
      "image/png": "[encoded data removed]",
      "text/plain": [
       "<Figure size 360x360 with 1 Axes>"
      ]
     },
     "metadata": {
      "needs_background": "light"
     },
     "output_type": "display_data"
    }
   ],
   "source": [
    "sns.lmplot(x='Actual', y='Predicted', data=pdf)"
   ]
  },
  {
   "cell_type": "code",
   "execution_count": 25,
   "metadata": {},
   "outputs": [
    {
     "data": {
      "text/html": [
       "<table class=\"simpletable\">\n",
       "<caption>OLS Regression Results</caption>\n",
       "<tr>\n",
       "  <th>Dep. Variable:</th>    <td>domestic_total_gross</td> <th>  R-squared (uncentered):</th>      <td>   0.750</td>\n",
       "</tr>\n",
       "<tr>\n",
       "  <th>Model:</th>                     <td>OLS</td>         <th>  Adj. R-squared (uncentered):</th> <td>   0.747</td>\n",
       "</tr>\n",
       "<tr>\n",
       "  <th>Method:</th>               <td>Least Squares</td>    <th>  F-statistic:       </th>          <td>   280.5</td>\n",
       "</tr>\n",
       "<tr>\n",
       "  <th>Date:</th>               <td>Fri, 17 Jul 2020</td>   <th>  Prob (F-statistic):</th>          <td>5.10e-57</td>\n",
       "</tr>\n",
       "<tr>\n",
       "  <th>Time:</th>                   <td>03:38:37</td>       <th>  Log-Likelihood:    </th>          <td> -3581.3</td>\n",
       "</tr>\n",
       "<tr>\n",
       "  <th>No. Observations:</th>        <td>   189</td>        <th>  AIC:               </th>          <td>   7167.</td>\n",
       "</tr>\n",
       "<tr>\n",
       "  <th>Df Residuals:</th>            <td>   187</td>        <th>  BIC:               </th>          <td>   7173.</td>\n",
       "</tr>\n",
       "<tr>\n",
       "  <th>Df Model:</th>                <td>     2</td>        <th>                     </th>              <td> </td>   \n",
       "</tr>\n",
       "<tr>\n",
       "  <th>Covariance Type:</th>        <td>nonrobust</td>      <th>                     </th>              <td> </td>   \n",
       "</tr>\n",
       "</table>\n",
       "<table class=\"simpletable\">\n",
       "<tr>\n",
       "        <td></td>          <th>coef</th>     <th>std err</th>      <th>t</th>      <th>P>|t|</th>  <th>[0.025</th>    <th>0.975]</th>  \n",
       "</tr>\n",
       "<tr>\n",
       "  <th>budget</th>       <td>    1.3314</td> <td>    0.094</td> <td>   14.207</td> <td> 0.000</td> <td>    1.147</td> <td>    1.516</td>\n",
       "</tr>\n",
       "<tr>\n",
       "  <th>index_counts</th> <td>  644.1662</td> <td>  104.665</td> <td>    6.155</td> <td> 0.000</td> <td>  437.691</td> <td>  850.642</td>\n",
       "</tr>\n",
       "</table>\n",
       "<table class=\"simpletable\">\n",
       "<tr>\n",
       "  <th>Omnibus:</th>       <td>183.476</td> <th>  Durbin-Watson:     </th> <td>   1.844</td>\n",
       "</tr>\n",
       "<tr>\n",
       "  <th>Prob(Omnibus):</th> <td> 0.000</td>  <th>  Jarque-Bera (JB):  </th> <td>4793.803</td>\n",
       "</tr>\n",
       "<tr>\n",
       "  <th>Skew:</th>          <td> 3.596</td>  <th>  Prob(JB):          </th> <td>    0.00</td>\n",
       "</tr>\n",
       "<tr>\n",
       "  <th>Kurtosis:</th>      <td>26.601</td>  <th>  Cond. No.          </th> <td>1.42e+03</td>\n",
       "</tr>\n",
       "</table><br/><br/>Warnings:<br/>[1] Standard Errors assume that the covariance matrix of the errors is correctly specified.<br/>[2] The condition number is large, 1.42e+03. This might indicate that there are<br/>strong multicollinearity or other numerical problems."
      ],
      "text/plain": [
       "<class 'statsmodels.iolib.summary.Summary'>\n",
       "\"\"\"\n",
       "                                  OLS Regression Results                                 \n",
       "=========================================================================================\n",
       "Dep. Variable:     domestic_total_gross   R-squared (uncentered):                   0.750\n",
       "Model:                              OLS   Adj. R-squared (uncentered):              0.747\n",
       "Method:                   Least Squares   F-statistic:                              280.5\n",
       "Date:                  Fri, 17 Jul 2020   Prob (F-statistic):                    5.10e-57\n",
       "Time:                          03:38:37   Log-Likelihood:                         -3581.3\n",
       "No. Observations:                   189   AIC:                                      7167.\n",
       "Df Residuals:                       187   BIC:                                      7173.\n",
       "Df Model:                             2                                                  \n",
       "Covariance Type:              nonrobust                                                  \n",
       "================================================================================\n",
       "                   coef    std err          t      P>|t|      [0.025      0.975]\n",
       "--------------------------------------------------------------------------------\n",
       "budget           1.3314      0.094     14.207      0.000       1.147       1.516\n",
       "index_counts   644.1662    104.665      6.155      0.000     437.691     850.642\n",
       "==============================================================================\n",
       "Omnibus:                      183.476   Durbin-Watson:                   1.844\n",
       "Prob(Omnibus):                  0.000   Jarque-Bera (JB):             4793.803\n",
       "Skew:                           3.596   Prob(JB):                         0.00\n",
       "Kurtosis:                      26.601   Cond. No.                     1.42e+03\n",
       "==============================================================================\n",
       "\n",
       "Warnings:\n",
       "[1] Standard Errors assume that the covariance matrix of the errors is correctly specified.\n",
       "[2] The condition number is large, 1.42e+03. This might indicate that there are\n",
       "strong multicollinearity or other numerical problems.\n",
       "\"\"\""
      ]
     },
     "execution_count": 25,
     "metadata": {},
     "output_type": "execute_result"
    }
   ],
   "source": [
    "model = sm.OLS(y_test, X_test).fit()\n",
    "model.summary()"
   ]
  },
  {
   "cell_type": "markdown",
   "metadata": {},
   "source": [
    "High condition number and significant heteroskedasticity - not a good sign. Next steps: validate with K-Fold, revisit model parameters."
   ]
  },
  {
   "cell_type": "code",
   "execution_count": 31,
   "metadata": {},
   "outputs": [
    {
     "data": {
      "text/html": [
       "<div>\n",
       "<style scoped>\n",
       "    .dataframe tbody tr th:only-of-type {\n",
       "        vertical-align: middle;\n",
       "    }\n",
       "\n",
       "    .dataframe tbody tr th {\n",
       "        vertical-align: top;\n",
       "    }\n",
       "\n",
       "    .dataframe thead th {\n",
       "        text-align: right;\n",
       "    }\n",
       "</style>\n",
       "<table border=\"1\" class=\"dataframe\">\n",
       "  <thead>\n",
       "    <tr style=\"text-align: right;\">\n",
       "      <th></th>\n",
       "      <th>domestic_total_gross</th>\n",
       "      <th>budget</th>\n",
       "      <th>num_audience_ratings</th>\n",
       "    </tr>\n",
       "  </thead>\n",
       "  <tbody>\n",
       "    <tr>\n",
       "      <th>5</th>\n",
       "      <td>270620950.0</td>\n",
       "      <td>75000000.0</td>\n",
       "      <td>1199.0</td>\n",
       "    </tr>\n",
       "    <tr>\n",
       "      <th>10</th>\n",
       "      <td>213515506.0</td>\n",
       "      <td>100000000.0</td>\n",
       "      <td>628.0</td>\n",
       "    </tr>\n",
       "    <tr>\n",
       "      <th>11</th>\n",
       "      <td>215288866.0</td>\n",
       "      <td>36000000.0</td>\n",
       "      <td>79.0</td>\n",
       "    </tr>\n",
       "    <tr>\n",
       "      <th>12</th>\n",
       "      <td>335061807.0</td>\n",
       "      <td>0.0</td>\n",
       "      <td>26.0</td>\n",
       "    </tr>\n",
       "    <tr>\n",
       "      <th>15</th>\n",
       "      <td>201091711.0</td>\n",
       "      <td>175000000.0</td>\n",
       "      <td>9.0</td>\n",
       "    </tr>\n",
       "    <tr>\n",
       "      <th>...</th>\n",
       "      <td>...</td>\n",
       "      <td>...</td>\n",
       "      <td>...</td>\n",
       "    </tr>\n",
       "    <tr>\n",
       "      <th>246</th>\n",
       "      <td>5166.0</td>\n",
       "      <td>0.0</td>\n",
       "      <td>0.0</td>\n",
       "    </tr>\n",
       "    <tr>\n",
       "      <th>247</th>\n",
       "      <td>3816.0</td>\n",
       "      <td>0.0</td>\n",
       "      <td>100.0</td>\n",
       "    </tr>\n",
       "    <tr>\n",
       "      <th>248</th>\n",
       "      <td>1051.0</td>\n",
       "      <td>0.0</td>\n",
       "      <td>5.0</td>\n",
       "    </tr>\n",
       "    <tr>\n",
       "      <th>249</th>\n",
       "      <td>225250.0</td>\n",
       "      <td>0.0</td>\n",
       "      <td>0.0</td>\n",
       "    </tr>\n",
       "    <tr>\n",
       "      <th>250</th>\n",
       "      <td>564.0</td>\n",
       "      <td>0.0</td>\n",
       "      <td>0.0</td>\n",
       "    </tr>\n",
       "  </tbody>\n",
       "</table>\n",
       "<p>943 rows × 3 columns</p>\n",
       "</div>"
      ],
      "text/plain": [
       "     domestic_total_gross       budget  num_audience_ratings\n",
       "5             270620950.0   75000000.0                1199.0\n",
       "10            213515506.0  100000000.0                 628.0\n",
       "11            215288866.0   36000000.0                  79.0\n",
       "12            335061807.0          0.0                  26.0\n",
       "15            201091711.0  175000000.0                   9.0\n",
       "..                    ...          ...                   ...\n",
       "246                5166.0          0.0                   0.0\n",
       "247                3816.0          0.0                 100.0\n",
       "248                1051.0          0.0                   5.0\n",
       "249              225250.0          0.0                   0.0\n",
       "250                 564.0          0.0                   0.0\n",
       "\n",
       "[943 rows x 3 columns]"
      ]
     },
     "execution_count": 31,
     "metadata": {},
     "output_type": "execute_result"
    }
   ],
   "source": [
    "final_try = no_nans.drop(columns=['runtime_minutes', 'metascores', 'critic_count', 'audience_scores', 'rating_G', 'rating_M/PG', 'rating_PG', 'rating_PG-13', 'rating_R', 'index_counts'])\n",
    "final_try"
   ]
  },
  {
   "cell_type": "code",
   "execution_count": 32,
   "metadata": {},
   "outputs": [],
   "source": [
    "X, y = final_try.drop('domestic_total_gross', axis=1), final_try['domestic_total_gross']\n",
    "X_train_val, X_test, y_train_val, y_test = train_test_split(X, y, test_size=0.2,random_state=42)\n",
    "X_train, X_val, y_train, y_val = train_test_split(X_train_val, y_train_val, test_size=.25, random_state=43)"
   ]
  },
  {
   "cell_type": "code",
   "execution_count": 33,
   "metadata": {},
   "outputs": [
    {
     "data": {
      "text/plain": [
       "StandardScaler()"
      ]
     },
     "execution_count": 33,
     "metadata": {},
     "output_type": "execute_result"
    }
   ],
   "source": [
    "std = StandardScaler()\n",
    "std.fit(X_train.values)"
   ]
  },
  {
   "cell_type": "code",
   "execution_count": 34,
   "metadata": {},
   "outputs": [],
   "source": [
    "X_tr = std.transform(X_train.values)\n",
    "X_te = std.transform(X_test.values)"
   ]
  },
  {
   "cell_type": "code",
   "execution_count": 35,
   "metadata": {},
   "outputs": [
    {
     "data": {
      "text/plain": [
       "LassoCV(alphas=array([1.00000000e-02, 1.04737090e-02, 1.09698580e-02, 1.14895100e-02,\n",
       "       1.20337784e-02, 1.26038293e-02, 1.32008840e-02, 1.38262217e-02,\n",
       "       1.44811823e-02, 1.51671689e-02, 1.58856513e-02, 1.66381689e-02,\n",
       "       1.74263339e-02, 1.82518349e-02, 1.91164408e-02, 2.00220037e-02,\n",
       "       2.09704640e-02, 2.19638537e-02, 2.30043012e-02, 2.40940356e-02,\n",
       "       2.52353917e-02, 2.64308149e-0...\n",
       "       3.44896226e+01, 3.61234270e+01, 3.78346262e+01, 3.96268864e+01,\n",
       "       4.15040476e+01, 4.34701316e+01, 4.55293507e+01, 4.76861170e+01,\n",
       "       4.99450512e+01, 5.23109931e+01, 5.47890118e+01, 5.73844165e+01,\n",
       "       6.01027678e+01, 6.29498899e+01, 6.59318827e+01, 6.90551352e+01,\n",
       "       7.23263390e+01, 7.57525026e+01, 7.93409667e+01, 8.30994195e+01,\n",
       "       8.70359136e+01, 9.11588830e+01, 9.54771611e+01, 1.00000000e+02]),\n",
       "        cv=5)"
      ]
     },
     "execution_count": 35,
     "metadata": {},
     "output_type": "execute_result"
    }
   ],
   "source": [
    "alphavec = 10**np.linspace(-2,2,200)\n",
    "\n",
    "lasso_model = LassoCV(alphas = alphavec, cv=5)\n",
    "lasso_model.fit(X_tr, y_train)"
   ]
  },
  {
   "cell_type": "code",
   "execution_count": 36,
   "metadata": {},
   "outputs": [
    {
     "data": {
      "text/plain": [
       "0.01"
      ]
     },
     "execution_count": 36,
     "metadata": {},
     "output_type": "execute_result"
    }
   ],
   "source": [
    "lasso_model.alpha_"
   ]
  },
  {
   "cell_type": "code",
   "execution_count": 37,
   "metadata": {},
   "outputs": [
    {
     "data": {
      "text/plain": [
       "[('budget', 44515601.72742291), ('num_audience_ratings', 18084554.38076188)]"
      ]
     },
     "execution_count": 37,
     "metadata": {},
     "output_type": "execute_result"
    }
   ],
   "source": [
    "list(zip(X_train.columns, lasso_model.coef_))"
   ]
  },
  {
   "cell_type": "code",
   "execution_count": 39,
   "metadata": {},
   "outputs": [
    {
     "data": {
      "text/plain": [
       "16051348.376559785"
      ]
     },
     "execution_count": 39,
     "metadata": {},
     "output_type": "execute_result"
    }
   ],
   "source": [
    "test_set_pred = lasso_model.predict(X_te)\n",
    "mae(y_test, test_set_pred)"
   ]
  },
  {
   "cell_type": "code",
   "execution_count": 40,
   "metadata": {},
   "outputs": [
    {
     "data": {
      "text/plain": [
       "0.6970924121420942"
      ]
     },
     "execution_count": 40,
     "metadata": {},
     "output_type": "execute_result"
    }
   ],
   "source": [
    "r2_score(y_test, test_set_pred)"
   ]
  },
  {
   "cell_type": "code",
   "execution_count": 41,
   "metadata": {},
   "outputs": [
    {
     "data": {
      "text/plain": [
       "[<matplotlib.lines.Line2D at 0x7f20f0171e10>]"
      ]
     },
     "execution_count": 41,
     "metadata": {},
     "output_type": "execute_result"
    },
    {
     "data": {
      "image/png": "[encoded data removed]",
      "text/plain": [
       "<Figure size 432x288 with 1 Axes>"
      ]
     },
     "metadata": {
      "needs_background": "light"
     },
     "output_type": "display_data"
    }
   ],
   "source": [
    "plt.scatter(test_set_pred, y_test, alpha=.1)\n",
    "plt.plot(np.linspace(0,600000,1000), np.linspace(0,600000,1000))"
   ]
  },
  {
   "cell_type": "code",
   "execution_count": 45,
   "metadata": {},
   "outputs": [
    {
     "data": {
      "text/html": [
       "<table class=\"simpletable\">\n",
       "<caption>OLS Regression Results</caption>\n",
       "<tr>\n",
       "  <th>Dep. Variable:</th>    <td>domestic_total_gross</td> <th>  R-squared (uncentered):</th>      <td>   0.736</td>\n",
       "</tr>\n",
       "<tr>\n",
       "  <th>Model:</th>                     <td>OLS</td>         <th>  Adj. R-squared (uncentered):</th> <td>   0.734</td>\n",
       "</tr>\n",
       "<tr>\n",
       "  <th>Method:</th>               <td>Least Squares</td>    <th>  F-statistic:       </th>          <td>   261.3</td>\n",
       "</tr>\n",
       "<tr>\n",
       "  <th>Date:</th>               <td>Fri, 17 Jul 2020</td>   <th>  Prob (F-statistic):</th>          <td>7.01e-55</td>\n",
       "</tr>\n",
       "<tr>\n",
       "  <th>Time:</th>                   <td>04:22:27</td>       <th>  Log-Likelihood:    </th>          <td> -3572.5</td>\n",
       "</tr>\n",
       "<tr>\n",
       "  <th>No. Observations:</th>        <td>   189</td>        <th>  AIC:               </th>          <td>   7149.</td>\n",
       "</tr>\n",
       "<tr>\n",
       "  <th>Df Residuals:</th>            <td>   187</td>        <th>  BIC:               </th>          <td>   7155.</td>\n",
       "</tr>\n",
       "<tr>\n",
       "  <th>Df Model:</th>                <td>     2</td>        <th>                     </th>              <td> </td>   \n",
       "</tr>\n",
       "<tr>\n",
       "  <th>Covariance Type:</th>        <td>nonrobust</td>      <th>                     </th>              <td> </td>   \n",
       "</tr>\n",
       "</table>\n",
       "<table class=\"simpletable\">\n",
       "<tr>\n",
       "            <td></td>              <th>coef</th>     <th>std err</th>      <th>t</th>      <th>P>|t|</th>  <th>[0.025</th>    <th>0.975]</th>  \n",
       "</tr>\n",
       "<tr>\n",
       "  <th>budget</th>               <td>    1.1567</td> <td>    0.075</td> <td>   15.341</td> <td> 0.000</td> <td>    1.008</td> <td>    1.305</td>\n",
       "</tr>\n",
       "<tr>\n",
       "  <th>num_audience_ratings</th> <td> 5.742e+04</td> <td> 7205.431</td> <td>    7.969</td> <td> 0.000</td> <td> 4.32e+04</td> <td> 7.16e+04</td>\n",
       "</tr>\n",
       "</table>\n",
       "<table class=\"simpletable\">\n",
       "<tr>\n",
       "  <th>Omnibus:</th>       <td>118.517</td> <th>  Durbin-Watson:     </th> <td>   1.913</td>\n",
       "</tr>\n",
       "<tr>\n",
       "  <th>Prob(Omnibus):</th> <td> 0.000</td>  <th>  Jarque-Bera (JB):  </th> <td>3504.040</td>\n",
       "</tr>\n",
       "<tr>\n",
       "  <th>Skew:</th>          <td> 1.748</td>  <th>  Prob(JB):          </th> <td>    0.00</td>\n",
       "</tr>\n",
       "<tr>\n",
       "  <th>Kurtosis:</th>      <td>23.802</td>  <th>  Cond. No.          </th> <td>1.08e+05</td>\n",
       "</tr>\n",
       "</table><br/><br/>Warnings:<br/>[1] Standard Errors assume that the covariance matrix of the errors is correctly specified.<br/>[2] The condition number is large, 1.08e+05. This might indicate that there are<br/>strong multicollinearity or other numerical problems."
      ],
      "text/plain": [
       "<class 'statsmodels.iolib.summary.Summary'>\n",
       "\"\"\"\n",
       "                                  OLS Regression Results                                 \n",
       "=========================================================================================\n",
       "Dep. Variable:     domestic_total_gross   R-squared (uncentered):                   0.736\n",
       "Model:                              OLS   Adj. R-squared (uncentered):              0.734\n",
       "Method:                   Least Squares   F-statistic:                              261.3\n",
       "Date:                  Fri, 17 Jul 2020   Prob (F-statistic):                    7.01e-55\n",
       "Time:                          04:22:27   Log-Likelihood:                         -3572.5\n",
       "No. Observations:                   189   AIC:                                      7149.\n",
       "Df Residuals:                       187   BIC:                                      7155.\n",
       "Df Model:                             2                                                  \n",
       "Covariance Type:              nonrobust                                                  \n",
       "========================================================================================\n",
       "                           coef    std err          t      P>|t|      [0.025      0.975]\n",
       "----------------------------------------------------------------------------------------\n",
       "budget                   1.1567      0.075     15.341      0.000       1.008       1.305\n",
       "num_audience_ratings  5.742e+04   7205.431      7.969      0.000    4.32e+04    7.16e+04\n",
       "==============================================================================\n",
       "Omnibus:                      118.517   Durbin-Watson:                   1.913\n",
       "Prob(Omnibus):                  0.000   Jarque-Bera (JB):             3504.040\n",
       "Skew:                           1.748   Prob(JB):                         0.00\n",
       "Kurtosis:                      23.802   Cond. No.                     1.08e+05\n",
       "==============================================================================\n",
       "\n",
       "Warnings:\n",
       "[1] Standard Errors assume that the covariance matrix of the errors is correctly specified.\n",
       "[2] The condition number is large, 1.08e+05. This might indicate that there are\n",
       "strong multicollinearity or other numerical problems.\n",
       "\"\"\""
      ]
     },
     "execution_count": 45,
     "metadata": {},
     "output_type": "execute_result"
    }
   ],
   "source": [
    "model = sm.OLS(y_test, X_test)\n",
    "results = model.fit()\n",
    "\n",
    "results.summary()"
   ]
  },
  {
   "cell_type": "markdown",
   "metadata": {},
   "source": [
    "Best R^2 value yet! But still bad condition number."
   ]
  }
 ],
 "metadata": {
  "kernelspec": {
   "display_name": "Python 3",
   "language": "python",
   "name": "python3"
  },
  "language_info": {
   "codemirror_mode": {
    "name": "ipython",
    "version": 3
   },
   "file_extension": ".py",
   "mimetype": "text/x-python",
   "name": "python",
   "nbconvert_exporter": "python",
   "pygments_lexer": "ipython3",
   "version": "3.7.6"
  }
 },
 "nbformat": 4,
 "nbformat_minor": 4
}
